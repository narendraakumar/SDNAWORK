{
  "cells": [
    {
      "cell_type": "markdown",
      "metadata": {
        "id": "view-in-github",
        "colab_type": "text"
      },
      "source": [
        "<a href=\"https://colab.research.google.com/github/narendraakumar/SDNAWORK/blob/main/Copy_of_pix2pix.ipynb\" target=\"_parent\"><img src=\"https://colab.research.google.com/assets/colab-badge.svg\" alt=\"Open In Colab\"/></a>"
      ]
    },
    {
      "cell_type": "markdown",
      "metadata": {
        "id": "7wNjDKdQy35h"
      },
      "source": [
        "# Install"
      ]
    },
    {
      "cell_type": "code",
      "execution_count": null,
      "metadata": {
        "colab": {
          "base_uri": "https://localhost:8080/"
        },
        "id": "TRm-USlsHgEV",
        "outputId": "4779012d-c397-459f-fa14-b0aee1ece9fd"
      },
      "outputs": [
        {
          "output_type": "stream",
          "name": "stdout",
          "text": [
            "Cloning into 'pytorch-CycleGAN-and-pix2pix'...\n",
            "remote: Enumerating objects: 2516, done.\u001b[K\n",
            "remote: Total 2516 (delta 0), reused 0 (delta 0), pack-reused 2516 (from 1)\u001b[K\n",
            "Receiving objects: 100% (2516/2516), 8.20 MiB | 16.93 MiB/s, done.\n",
            "Resolving deltas: 100% (1575/1575), done.\n"
          ]
        }
      ],
      "source": [
        "!git clone https://github.com/junyanz/pytorch-CycleGAN-and-pix2pix"
      ]
    },
    {
      "cell_type": "code",
      "execution_count": null,
      "metadata": {
        "id": "Pt3igws3eiVp"
      },
      "outputs": [],
      "source": [
        "import os\n",
        "os.chdir('pytorch-CycleGAN-and-pix2pix/')"
      ]
    },
    {
      "cell_type": "code",
      "execution_count": null,
      "metadata": {
        "colab": {
          "base_uri": "https://localhost:8080/"
        },
        "id": "z1EySlOXwwoa",
        "collapsed": true,
        "outputId": "e0c9ba37-3985-4801-8ec3-84e6ac15ff97"
      },
      "outputs": [
        {
          "output_type": "stream",
          "name": "stdout",
          "text": [
            "Requirement already satisfied: torch>=1.4.0 in /usr/local/lib/python3.10/dist-packages (from -r requirements.txt (line 1)) (2.4.1+cu121)\n",
            "Requirement already satisfied: torchvision>=0.5.0 in /usr/local/lib/python3.10/dist-packages (from -r requirements.txt (line 2)) (0.19.1+cu121)\n",
            "Collecting dominate>=2.4.0 (from -r requirements.txt (line 3))\n",
            "  Downloading dominate-2.9.1-py2.py3-none-any.whl.metadata (13 kB)\n",
            "Collecting visdom>=0.1.8.8 (from -r requirements.txt (line 4))\n",
            "  Downloading visdom-0.2.4.tar.gz (1.4 MB)\n",
            "\u001b[2K     \u001b[90m━━━━━━━━━━━━━━━━━━━━━━━━━━━━━━━━━━━━━━━━\u001b[0m \u001b[32m1.4/1.4 MB\u001b[0m \u001b[31m5.3 MB/s\u001b[0m eta \u001b[36m0:00:00\u001b[0m\n",
            "\u001b[?25h  Preparing metadata (setup.py) ... \u001b[?25l\u001b[?25hcanceled\n",
            "Traceback (most recent call last):\n",
            "  File \"/usr/local/lib/python3.10/dist-packages/pip/_internal/cli/base_command.py\", line 179, in exc_logging_wrapper\n",
            "    status = run_func(*args)\n",
            "  File \"/usr/local/lib/python3.10/dist-packages/pip/_internal/cli/req_command.py\", line 67, in wrapper\n",
            "    return func(self, options, args)\n",
            "  File \"/usr/local/lib/python3.10/dist-packages/pip/_internal/commands/install.py\", line 377, in run\n",
            "    requirement_set = resolver.resolve(\n",
            "  File \"/usr/local/lib/python3.10/dist-packages/pip/_internal/resolution/resolvelib/resolver.py\", line 95, in resolve\n",
            "    result = self._result = resolver.resolve(\n",
            "  File \"/usr/local/lib/python3.10/dist-packages/pip/_vendor/resolvelib/resolvers.py\", line 546, in resolve\n",
            "    state = resolution.resolve(requirements, max_rounds=max_rounds)\n",
            "  File \"/usr/local/lib/python3.10/dist-packages/pip/_vendor/resolvelib/resolvers.py\", line 397, in resolve\n",
            "    self._add_to_criteria(self.state.criteria, r, parent=None)\n",
            "  File \"/usr/local/lib/python3.10/dist-packages/pip/_vendor/resolvelib/resolvers.py\", line 173, in _add_to_criteria\n",
            "    if not criterion.candidates:\n",
            "  File \"/usr/local/lib/python3.10/dist-packages/pip/_vendor/resolvelib/structs.py\", line 156, in __bool__\n",
            "    return bool(self._sequence)\n",
            "  File \"/usr/local/lib/python3.10/dist-packages/pip/_internal/resolution/resolvelib/found_candidates.py\", line 174, in __bool__\n",
            "    return any(self)\n",
            "  File \"/usr/local/lib/python3.10/dist-packages/pip/_internal/resolution/resolvelib/found_candidates.py\", line 162, in <genexpr>\n",
            "    return (c for c in iterator if id(c) not in self._incompatible_ids)\n",
            "  File \"/usr/local/lib/python3.10/dist-packages/pip/_internal/resolution/resolvelib/found_candidates.py\", line 53, in _iter_built\n",
            "    candidate = func()\n",
            "  File \"/usr/local/lib/python3.10/dist-packages/pip/_internal/resolution/resolvelib/factory.py\", line 185, in _make_candidate_from_link\n",
            "    base: Optional[BaseCandidate] = self._make_base_candidate_from_link(\n",
            "  File \"/usr/local/lib/python3.10/dist-packages/pip/_internal/resolution/resolvelib/factory.py\", line 231, in _make_base_candidate_from_link\n",
            "    self._link_candidate_cache[link] = LinkCandidate(\n",
            "  File \"/usr/local/lib/python3.10/dist-packages/pip/_internal/resolution/resolvelib/candidates.py\", line 303, in __init__\n",
            "    super().__init__(\n",
            "  File \"/usr/local/lib/python3.10/dist-packages/pip/_internal/resolution/resolvelib/candidates.py\", line 158, in __init__\n",
            "    self.dist = self._prepare()\n",
            "  File \"/usr/local/lib/python3.10/dist-packages/pip/_internal/resolution/resolvelib/candidates.py\", line 235, in _prepare\n",
            "    dist = self._prepare_distribution()\n",
            "  File \"/usr/local/lib/python3.10/dist-packages/pip/_internal/resolution/resolvelib/candidates.py\", line 314, in _prepare_distribution\n",
            "    return preparer.prepare_linked_requirement(self._ireq, parallel_builds=True)\n",
            "  File \"/usr/local/lib/python3.10/dist-packages/pip/_internal/operations/prepare.py\", line 527, in prepare_linked_requirement\n",
            "    return self._prepare_linked_requirement(req, parallel_builds)\n",
            "  File \"/usr/local/lib/python3.10/dist-packages/pip/_internal/operations/prepare.py\", line 642, in _prepare_linked_requirement\n",
            "    dist = _get_prepared_distribution(\n",
            "  File \"/usr/local/lib/python3.10/dist-packages/pip/_internal/operations/prepare.py\", line 72, in _get_prepared_distribution\n",
            "    abstract_dist.prepare_distribution_metadata(\n",
            "  File \"/usr/local/lib/python3.10/dist-packages/pip/_internal/distributions/sdist.py\", line 69, in prepare_distribution_metadata\n",
            "    self.req.prepare_metadata()\n",
            "  File \"/usr/local/lib/python3.10/dist-packages/pip/_internal/req/req_install.py\", line 580, in prepare_metadata\n",
            "    self.metadata_directory = generate_metadata_legacy(\n",
            "  File \"/usr/local/lib/python3.10/dist-packages/pip/_internal/operations/build/metadata_legacy.py\", line 64, in generate_metadata\n",
            "    call_subprocess(\n",
            "  File \"/usr/local/lib/python3.10/dist-packages/pip/_internal/utils/subprocess.py\", line 151, in call_subprocess\n",
            "    line: str = proc.stdout.readline()\n",
            "KeyboardInterrupt\n",
            "\n",
            "During handling of the above exception, another exception occurred:\n",
            "\n",
            "Traceback (most recent call last):\n",
            "  File \"/usr/local/bin/pip3\", line 8, in <module>\n",
            "    sys.exit(main())\n",
            "  File \"/usr/local/lib/python3.10/dist-packages/pip/_internal/cli/main.py\", line 80, in main\n",
            "    return command.main(cmd_args)\n",
            "  File \"/usr/local/lib/python3.10/dist-packages/pip/_internal/cli/base_command.py\", line 100, in main\n",
            "    return self._main(args)\n",
            "  File \"/usr/local/lib/python3.10/dist-packages/pip/_internal/cli/base_command.py\", line 232, in _main\n",
            "    return run(options, args)\n",
            "  File \"/usr/local/lib/python3.10/dist-packages/pip/_internal/cli/base_command.py\", line 215, in exc_logging_wrapper\n",
            "    logger.critical(\"Operation cancelled by user\")\n",
            "  File \"/usr/lib/python3.10/logging/__init__.py\", line 1524, in critical\n",
            "    self._log(CRITICAL, msg, args, **kwargs)\n",
            "  File \"/usr/lib/python3.10/logging/__init__.py\", line 1624, in _log\n",
            "    self.handle(record)\n",
            "  File \"/usr/lib/python3.10/logging/__init__.py\", line 1634, in handle\n",
            "    self.callHandlers(record)\n",
            "  File \"/usr/lib/python3.10/logging/__init__.py\", line 1696, in callHandlers\n",
            "    hdlr.handle(record)\n",
            "  File \"/usr/lib/python3.10/logging/__init__.py\", line 968, in handle\n",
            "    self.emit(record)\n",
            "  File \"/usr/local/lib/python3.10/dist-packages/pip/_internal/utils/logging.py\", line 177, in emit\n",
            "    self.console.print(renderable, overflow=\"ignore\", crop=False, style=style)\n",
            "  File \"/usr/local/lib/python3.10/dist-packages/pip/_vendor/rich/console.py\", line 1703, in print\n",
            "    extend(\n",
            "  File \"/usr/local/lib/python3.10/dist-packages/pip/_vendor/rich/segment.py\", line 197, in <genexpr>\n",
            "    result_segments = (\n",
            "  File \"/usr/local/lib/python3.10/dist-packages/pip/_vendor/rich/console.py\", line 1332, in render\n",
            "    for render_output in iter_render:\n",
            "  File \"/usr/local/lib/python3.10/dist-packages/pip/_vendor/rich/text.py\", line 694, in __rich_console__\n",
            "    lines = self.wrap(\n",
            "  File \"/usr/local/lib/python3.10/dist-packages/pip/_vendor/rich/text.py\", line 1224, in wrap\n",
            "    no_wrap = pick_bool(no_wrap, self.no_wrap, False) or overflow == \"ignore\"\n",
            "  File \"/usr/local/lib/python3.10/dist-packages/pip/_vendor/rich/_pick.py\", line 13, in pick_bool\n",
            "    assert values, \"1 or more values required\"\n",
            "KeyboardInterrupt\n",
            "^C\n"
          ]
        }
      ],
      "source": [
        "!pip install -r requirements.txt"
      ]
    },
    {
      "cell_type": "markdown",
      "metadata": {
        "id": "8daqlgVhw29P"
      },
      "source": [
        "# Datasets\n",
        "\n",
        "Download one of the official datasets with:\n",
        "\n",
        "-   `bash ./datasets/download_pix2pix_dataset.sh [cityscapes, night2day, edges2handbags, edges2shoes, facades, maps]`\n",
        "\n",
        "Or use your own dataset by creating the appropriate folders and adding in the images. Follow the instructions [here](https://github.com/junyanz/pytorch-CycleGAN-and-pix2pix/blob/master/docs/datasets.md#pix2pix-datasets)."
      ]
    },
    {
      "cell_type": "code",
      "execution_count": null,
      "metadata": {
        "id": "vrdOettJxaCc",
        "collapsed": true
      },
      "outputs": [],
      "source": [
        "!bash ./datasets/download_pix2pix_dataset.sh facades"
      ]
    },
    {
      "cell_type": "markdown",
      "metadata": {
        "id": "gdUz4116xhpm"
      },
      "source": [
        "# Pretrained models\n",
        "\n",
        "Download one of the official pretrained models with:\n",
        "\n",
        "-   `bash ./scripts/download_pix2pix_model.sh [edges2shoes, sat2map, map2sat, facades_label2photo, and day2night]`\n",
        "\n",
        "Or add your own pretrained model to `./checkpoints/{NAME}_pretrained/latest_net_G.pt`"
      ]
    },
    {
      "cell_type": "code",
      "execution_count": null,
      "metadata": {
        "id": "GC2DEP4M0OsS"
      },
      "outputs": [],
      "source": [
        "!bash ./scripts/download_pix2pix_model.sh sat2map"
      ]
    },
    {
      "cell_type": "markdown",
      "metadata": {
        "id": "yFw1kDQBx3LN"
      },
      "source": [
        "# Training\n",
        "\n",
        "-   `python train.py --dataroot ./datasets/facades --name facades_pix2pix --model pix2pix --direction BtoA`\n",
        "\n",
        "Change the `--dataroot` and `--name` to your own dataset's path and model's name. Use `--gpu_ids 0,1,..` to train on multiple GPUs and `--batch_size` to change the batch size. Add `--direction BtoA` if you want to train a model to transfrom from class B to A."
      ]
    },
    {
      "cell_type": "code",
      "execution_count": null,
      "metadata": {
        "id": "0sp7TCT2x9dB"
      },
      "outputs": [],
      "source": [
        "!python train.py --dataroot ./datasets/facades --name facades_pix2pix --model pix2pix --direction BtoA --display_id -1 --gpu_ids 0\n"
      ]
    },
    {
      "cell_type": "code",
      "source": [
        "# prompt: give perameter gpu id\n",
        "\n",
        "!python train.py --dataroot ./datasets/facades --name facades_pix2pix --model pix2pix --direction BtoA --display_id -1 --gpu_ids 1\n"
      ],
      "metadata": {
        "id": "0Dv_GUAFMaHp"
      },
      "execution_count": null,
      "outputs": []
    },
    {
      "cell_type": "code",
      "source": [
        "# prompt: Traceback (most recent call last):\n",
        "#   File \"/content/pytorch-CycleGAN-and-pix2pix/train.py\", line 28, in <module>\n",
        "#     opt = TrainOptions().parse()   # get training options\n",
        "#   File \"/content/pytorch-CycleGAN-and-pix2pix/options/base_options.py\", line 136, in parse\n",
        "#     torch.cuda.set_device(opt.gpu_ids[0])\n",
        "#   File \"/usr/local/lib/python3.10/dist-packages/torch/cuda/__init__.py\", line 420, in set_device\n",
        "\n",
        "!python train.py --dataroot ./datasets/facades --name facades_pix2pix --model pix2pix --direction BtoA --display_id -1 --gpu_ids 0\n"
      ],
      "metadata": {
        "id": "2z0Yc8sJm2-K"
      },
      "execution_count": null,
      "outputs": []
    },
    {
      "cell_type": "markdown",
      "metadata": {
        "id": "9UkcaFZiyASl"
      },
      "source": [
        "# Testing\n",
        "\n",
        "-   `python test.py --dataroot ./datasets/facades --direction BtoA --model pix2pix --name facades_pix2pix`\n",
        "\n",
        "Change the `--dataroot`, `--name`, and `--direction` to be consistent with your trained model's configuration and how you want to transform images.\n",
        "\n",
        "> from https://github.com/junyanz/pytorch-CycleGAN-and-pix2pix:\n",
        "> Note that we specified --direction BtoA as Facades dataset's A to B direction is photos to labels.\n",
        "\n",
        "> If you would like to apply a pre-trained model to a collection of input images (rather than image pairs), please use --model test option. See ./scripts/test_single.sh for how to apply a model to Facade label maps (stored in the directory facades/testB).\n",
        "\n",
        "> See a list of currently available models at ./scripts/download_pix2pix_model.sh"
      ]
    },
    {
      "cell_type": "code",
      "execution_count": null,
      "metadata": {
        "id": "mey7o6j-0368"
      },
      "outputs": [],
      "source": [
        "!ls checkpoints/"
      ]
    },
    {
      "cell_type": "code",
      "execution_count": null,
      "metadata": {
        "id": "uCsKkEq0yGh0"
      },
      "outputs": [],
      "source": [
        "!python test.py --dataroot ./datasets/facades --direction BtoA --model pix2pix --name facades_label2photo_pretrained --use_wandb"
      ]
    },
    {
      "cell_type": "markdown",
      "metadata": {
        "id": "OzSKIPUByfiN"
      },
      "source": [
        "# Visualize"
      ]
    },
    {
      "cell_type": "code",
      "execution_count": null,
      "metadata": {
        "id": "9Mgg8raPyizq"
      },
      "outputs": [],
      "source": [
        "import matplotlib.pyplot as plt\n",
        "\n",
        "img = plt.imread('./results/facades_label2photo_pretrained/test_latest/images/100_fake_B.png')\n",
        "plt.imshow(img)"
      ]
    },
    {
      "cell_type": "code",
      "execution_count": null,
      "metadata": {
        "id": "0G3oVH9DyqLQ"
      },
      "outputs": [],
      "source": [
        "img = plt.imread('./results/facades_label2photo_pretrained/test_latest/images/100_real_A.png')\n",
        "plt.imshow(img)"
      ]
    },
    {
      "cell_type": "code",
      "execution_count": null,
      "metadata": {
        "id": "ErK5OC1j1LH4"
      },
      "outputs": [],
      "source": [
        "img = plt.imread('./results/facades_label2photo_pretrained/test_latest/images/100_real_B.png')\n",
        "plt.imshow(img)"
      ]
    },
    {
      "cell_type": "code",
      "source": [
        "from google.colab import drive\n",
        "drive.mount('/content/drive')"
      ],
      "metadata": {
        "colab": {
          "base_uri": "https://localhost:8080/"
        },
        "id": "xIN2jPxEOFEd",
        "outputId": "8f8f14d1-1726-45e8-8ff6-6cd216f2a777"
      },
      "execution_count": null,
      "outputs": [
        {
          "output_type": "stream",
          "name": "stdout",
          "text": [
            "Mounted at /content/drive\n"
          ]
        }
      ]
    },
    {
      "cell_type": "code",
      "source": [
        "import os\n",
        "import cv2\n",
        "import re\n",
        "import numpy as np\n",
        "\n",
        "# Function to concatenate images horizontally (along X-axis)\n",
        "def concatenate_images(image_list, save_path, base_name):\n",
        "    # Load images using OpenCV\n",
        "    images = [cv2.imread(img) for img in image_list]\n",
        "\n",
        "    # Resize images to the same height (optional)\n",
        "    if any(img is None for img in images):\n",
        "        print(f\"Error: Failed to load one or more images for {base_name}\")\n",
        "        return  # Skip concatenation if any image is None\n",
        "\n",
        "    heights = [img.shape[0] for img in images]\n",
        "    max_height = max(heights)\n",
        "\n",
        "    resized_images = []\n",
        "    for img in images:\n",
        "        scale_ratio = max_height / img.shape[0]\n",
        "        new_width = int(img.shape[1] * scale_ratio)\n",
        "        resized_img = cv2.resize(img, (new_width, max_height))\n",
        "        resized_images.append(resized_img)\n",
        "\n",
        "    # Concatenate images along X-axis\n",
        "    concatenated_image = np.hstack(resized_images)\n",
        "\n",
        "    # Save the concatenated image\n",
        "    save_file = os.path.join(save_path, base_name + \"_concat.jpg\")\n",
        "    cv2.imwrite(save_file, concatenated_image)\n",
        "    print(f\"Saved: {save_file}\")\n",
        "\n",
        "# Function to find images, group by name, and concatenate\n",
        "def process_images(root_folder, save_folder):\n",
        "    image_groups = {}\n",
        "\n",
        "    # Stage 1 folder traversal\n",
        "    for stage_folder in [os.listdir(root_folder)[1]]:\n",
        "        stage_path = os.path.join(root_folder, stage_folder)\n",
        "        if os.path.isdir(stage_path):\n",
        "            # Go through each image file in the stage folder\n",
        "            for file in os.listdir(stage_path):\n",
        "                if file.endswith(('.png', '.jpg', '.jpeg')):  # Adjust image extensions as needed\n",
        "                    # Extract the base name without the underscore and extension\n",
        "                    base_name = re.sub(r'_[^_]*$', '', os.path.splitext(file)[0])\n",
        "\n",
        "                    # Add the image to its group (based on base_name)\n",
        "                    image_path = os.path.join(stage_path, file)\n",
        "                    if base_name not in image_groups:\n",
        "                        image_groups[base_name] = []\n",
        "                    image_groups[base_name].append(image_path)\n",
        "\n",
        "    # Make sure the save directory exists\n",
        "    if not os.path.exists(save_folder):\n",
        "        os.makedirs(save_folder)\n",
        "\n",
        "    # Concatenate images with the same base name\n",
        "    for base_name, image_list in image_groups.items():\n",
        "        if len(image_list) > 1:\n",
        "            import numpy as np\n",
        "            image_list = np.sort(image_list)\n",
        "            print(image_list)\n",
        "\n",
        "            concatenate_images(image_list, save_folder, base_name)\n",
        "\n",
        "    # Make sure save directory exists\n",
        "\n",
        "# Define your folder paths\n",
        "root_folder = '/content/drive/MyDrive/test'  # Folder where images are stored\n",
        "save_folder = '/content/data'  # Folder where concatenated images will be saved\n",
        "\n",
        "# Run the script\n",
        "process_images(root_folder, save_folder)"
      ],
      "metadata": {
        "colab": {
          "base_uri": "https://localhost:8080/"
        },
        "id": "L6drK3cgODzE",
        "outputId": "aeb674c8-539e-4fd7-db46-6fd9595888bc"
      },
      "execution_count": null,
      "outputs": [
        {
          "output_type": "stream",
          "name": "stdout",
          "text": [
            "['/content/drive/MyDrive/test/PTRC319KWJR1W1F0/PTRC319KWJR1W1F0000002.jpg'\n",
            " '/content/drive/MyDrive/test/PTRC319KWJR1W1F0/PTRC319KWJR1W1F0000002_.jpg']\n",
            "Saved: /content/data/PTRC319KWJR1W1F0000002_concat.jpg\n",
            "['/content/drive/MyDrive/test/PTRC319KWJR1W1F0/PTRC319KWJR1W1F0000001.jpg'\n",
            " '/content/drive/MyDrive/test/PTRC319KWJR1W1F0/PTRC319KWJR1W1F0000001_.jpg']\n",
            "Saved: /content/data/PTRC319KWJR1W1F0000001_concat.jpg\n",
            "['/content/drive/MyDrive/test/PTRC319KWJR1W1F0/PTRC319KWJR1W1F0000000.jpg'\n",
            " '/content/drive/MyDrive/test/PTRC319KWJR1W1F0/PTRC319KWJR1W1F0000000_.jpg']\n",
            "Saved: /content/data/PTRC319KWJR1W1F0000000_concat.jpg\n",
            "['/content/drive/MyDrive/test/PTRC319KWJR1W1F0/PTRC319KWJR1W1F0000003.jpg'\n",
            " '/content/drive/MyDrive/test/PTRC319KWJR1W1F0/PTRC319KWJR1W1F0000003_.jpg']\n",
            "Saved: /content/data/PTRC319KWJR1W1F0000003_concat.jpg\n",
            "['/content/drive/MyDrive/test/PTRC319KWJR1W1F0/PTRC319KWJR1W1F0000007.jpg'\n",
            " '/content/drive/MyDrive/test/PTRC319KWJR1W1F0/PTRC319KWJR1W1F0000007_.jpg']\n",
            "Saved: /content/data/PTRC319KWJR1W1F0000007_concat.jpg\n",
            "['/content/drive/MyDrive/test/PTRC319KWJR1W1F0/PTRC319KWJR1W1F0000006.jpg'\n",
            " '/content/drive/MyDrive/test/PTRC319KWJR1W1F0/PTRC319KWJR1W1F0000006_.jpg']\n",
            "Saved: /content/data/PTRC319KWJR1W1F0000006_concat.jpg\n",
            "['/content/drive/MyDrive/test/PTRC319KWJR1W1F0/PTRC319KWJR1W1F0000009.jpg'\n",
            " '/content/drive/MyDrive/test/PTRC319KWJR1W1F0/PTRC319KWJR1W1F0000009_.jpg']\n",
            "Saved: /content/data/PTRC319KWJR1W1F0000009_concat.jpg\n",
            "['/content/drive/MyDrive/test/PTRC319KWJR1W1F0/PTRC319KWJR1W1F0000008.jpg'\n",
            " '/content/drive/MyDrive/test/PTRC319KWJR1W1F0/PTRC319KWJR1W1F0000008_.jpg']\n",
            "Saved: /content/data/PTRC319KWJR1W1F0000008_concat.jpg\n",
            "['/content/drive/MyDrive/test/PTRC319KWJR1W1F0/PTRC319KWJR1W1F0000005.jpg'\n",
            " '/content/drive/MyDrive/test/PTRC319KWJR1W1F0/PTRC319KWJR1W1F0000005_.jpg']\n",
            "Saved: /content/data/PTRC319KWJR1W1F0000005_concat.jpg\n",
            "['/content/drive/MyDrive/test/PTRC319KWJR1W1F0/PTRC319KWJR1W1F0000012.jpg'\n",
            " '/content/drive/MyDrive/test/PTRC319KWJR1W1F0/PTRC319KWJR1W1F0000012_.jpg']\n",
            "Saved: /content/data/PTRC319KWJR1W1F0000012_concat.jpg\n",
            "['/content/drive/MyDrive/test/PTRC319KWJR1W1F0/PTRC319KWJR1W1F0000010.jpg'\n",
            " '/content/drive/MyDrive/test/PTRC319KWJR1W1F0/PTRC319KWJR1W1F0000010_.jpg']\n",
            "Saved: /content/data/PTRC319KWJR1W1F0000010_concat.jpg\n",
            "['/content/drive/MyDrive/test/PTRC319KWJR1W1F0/PTRC319KWJR1W1F0000004.jpg'\n",
            " '/content/drive/MyDrive/test/PTRC319KWJR1W1F0/PTRC319KWJR1W1F0000004_.jpg']\n",
            "Saved: /content/data/PTRC319KWJR1W1F0000004_concat.jpg\n",
            "['/content/drive/MyDrive/test/PTRC319KWJR1W1F0/PTRC319KWJR1W1F0000011.jpg'\n",
            " '/content/drive/MyDrive/test/PTRC319KWJR1W1F0/PTRC319KWJR1W1F0000011_.jpg']\n",
            "Saved: /content/data/PTRC319KWJR1W1F0000011_concat.jpg\n"
          ]
        }
      ]
    }
  ],
  "metadata": {
    "colab": {
      "provenance": [],
      "include_colab_link": true
    },
    "environment": {
      "name": "tf2-gpu.2-3.m74",
      "type": "gcloud",
      "uri": "gcr.io/deeplearning-platform-release/tf2-gpu.2-3:m74"
    },
    "kernelspec": {
      "display_name": "Python 3",
      "name": "python3"
    },
    "language_info": {
      "codemirror_mode": {
        "name": "ipython",
        "version": 3
      },
      "file_extension": ".py",
      "mimetype": "text/x-python",
      "name": "python",
      "nbconvert_exporter": "python",
      "pygments_lexer": "ipython3",
      "version": "3.7.10"
    }
  },
  "nbformat": 4,
  "nbformat_minor": 0
}